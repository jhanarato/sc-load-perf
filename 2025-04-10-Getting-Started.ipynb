{
 "cells": [
  {
   "cell_type": "code",
   "execution_count": null,
   "id": "cf184e3a-5fcf-4688-89e5-68979a8be331",
   "metadata": {},
   "outputs": [],
   "source": [
    "import polars as pl"
   ]
  },
  {
   "cell_type": "code",
   "execution_count": null,
   "id": "9dd6633e-6c10-4d84-be68-17e6e19299db",
   "metadata": {},
   "outputs": [],
   "source": [
    "pl.read_csv('~/Code/suttacentral/server/load-data-run.csv')"
   ]
  },
  {
   "cell_type": "code",
   "execution_count": null,
   "id": "6bd1d0ca-5e17-4d84-970f-5eee001a24f4",
   "metadata": {},
   "outputs": [],
   "source": []
  }
 ],
 "metadata": {
  "kernelspec": {
   "display_name": "Python 3 (ipykernel)",
   "language": "python",
   "name": "python3"
  },
  "language_info": {
   "codemirror_mode": {
    "name": "ipython",
    "version": 3
   },
   "file_extension": ".py",
   "mimetype": "text/x-python",
   "name": "python",
   "nbconvert_exporter": "python",
   "pygments_lexer": "ipython3",
   "version": "3.13.2"
  }
 },
 "nbformat": 4,
 "nbformat_minor": 5
}
