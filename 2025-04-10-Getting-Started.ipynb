{
 "cells": [
  {
   "cell_type": "code",
   "execution_count": 3,
   "id": "cf184e3a-5fcf-4688-89e5-68979a8be331",
   "metadata": {},
   "outputs": [],
   "source": [
    "import polars as pl\n",
    "import sc_load_pe"
   ]
  },
  {
   "cell_type": "code",
   "execution_count": 6,
   "id": "9dd6633e-6c10-4d84-be68-17e6e19299db",
   "metadata": {},
   "outputs": [],
   "source": [
    "df = pl.read_csv('~/Code/suttacentral/server/load-data-run.csv')"
   ]
  },
  {
   "cell_type": "code",
   "execution_count": 7,
   "id": "dba45cf9-a972-465d-8c3d-3a875a90fdeb",
   "metadata": {},
   "outputs": [
    {
     "data": {
      "text/plain": [
       "['Number', 'Message', 'Clock Time (s)', 'CPU Time (s)']"
      ]
     },
     "execution_count": 7,
     "metadata": {},
     "output_type": "execute_result"
    }
   ],
   "source": [
    "df.columns"
   ]
  },
  {
   "cell_type": "code",
   "execution_count": 13,
   "id": "0990b503-9652-432c-aaec-60b4247f0a53",
   "metadata": {},
   "outputs": [
    {
     "data": {
      "text/html": [
       "<div><style>\n",
       ".dataframe > thead > tr,\n",
       ".dataframe > tbody > tr {\n",
       "  text-align: right;\n",
       "  white-space: pre-wrap;\n",
       "}\n",
       "</style>\n",
       "<small>shape: (51, 4)</small><table border=\"1\" class=\"dataframe\"><thead><tr><th>Number</th><th>Message</th><th>Clock Time (s)</th><th>CPU Time (s)</th></tr><tr><td>i64</td><td>str</td><td>f64</td><td>f64</td></tr></thead><tbody><tr><td>51</td><td>&quot;All done&quot;</td><td>null</td><td>null</td></tr><tr><td>30</td><td>&quot;Loading html_text&quot;</td><td>79.050246</td><td>73.02274</td></tr><tr><td>44</td><td>&quot;Update Acronym&quot;</td><td>58.988813</td><td>34.236346</td></tr><tr><td>31</td><td>&quot;Make yellow brick road&quot;</td><td>25.563617</td><td>0.003657</td></tr><tr><td>26</td><td>&quot;Updating names&quot;</td><td>20.259218</td><td>11.903545</td></tr><tr><td>&hellip;</td><td>&hellip;</td><td>&hellip;</td><td>&hellip;</td></tr><tr><td>34</td><td>&quot;Loading creator bio from addit…</td><td>0.002549</td><td>0.001946</td></tr><tr><td>33</td><td>&quot;Loading prioritize from additi…</td><td>0.002275</td><td>0.001969</td></tr><tr><td>12</td><td>&quot;Loading guides.json&quot;</td><td>0.00215</td><td>0.001831</td></tr><tr><td>13</td><td>&quot;Loading pali_reference_edition…</td><td>0.002141</td><td>0.001811</td></tr><tr><td>16</td><td>&quot;Loading shortcuts.json&quot;</td><td>0.001598</td><td>0.001273</td></tr></tbody></table></div>"
      ],
      "text/plain": [
       "shape: (51, 4)\n",
       "┌────────┬─────────────────────────────────┬────────────────┬──────────────┐\n",
       "│ Number ┆ Message                         ┆ Clock Time (s) ┆ CPU Time (s) │\n",
       "│ ---    ┆ ---                             ┆ ---            ┆ ---          │\n",
       "│ i64    ┆ str                             ┆ f64            ┆ f64          │\n",
       "╞════════╪═════════════════════════════════╪════════════════╪══════════════╡\n",
       "│ 51     ┆ All done                        ┆ null           ┆ null         │\n",
       "│ 30     ┆ Loading html_text               ┆ 79.050246      ┆ 73.02274     │\n",
       "│ 44     ┆ Update Acronym                  ┆ 58.988813      ┆ 34.236346    │\n",
       "│ 31     ┆ Make yellow brick road          ┆ 25.563617      ┆ 0.003657     │\n",
       "│ 26     ┆ Updating names                  ┆ 20.259218      ┆ 11.903545    │\n",
       "│ …      ┆ …                               ┆ …              ┆ …            │\n",
       "│ 34     ┆ Loading creator bio from addit… ┆ 0.002549       ┆ 0.001946     │\n",
       "│ 33     ┆ Loading prioritize from additi… ┆ 0.002275       ┆ 0.001969     │\n",
       "│ 12     ┆ Loading guides.json             ┆ 0.00215        ┆ 0.001831     │\n",
       "│ 13     ┆ Loading pali_reference_edition… ┆ 0.002141       ┆ 0.001811     │\n",
       "│ 16     ┆ Loading shortcuts.json          ┆ 0.001598       ┆ 0.001273     │\n",
       "└────────┴─────────────────────────────────┴────────────────┴──────────────┘"
      ]
     },
     "execution_count": 13,
     "metadata": {},
     "output_type": "execute_result"
    }
   ],
   "source": [
    "df.sort('Clock Time (s)', descending=True)"
   ]
  },
  {
   "cell_type": "code",
   "execution_count": 14,
   "id": "badaabf1-5cc1-4dc3-a344-9b82e4bad413",
   "metadata": {},
   "outputs": [
    {
     "data": {
      "text/html": [
       "<div><style>\n",
       ".dataframe > thead > tr,\n",
       ".dataframe > tbody > tr {\n",
       "  text-align: right;\n",
       "  white-space: pre-wrap;\n",
       "}\n",
       "</style>\n",
       "<small>shape: (51, 4)</small><table border=\"1\" class=\"dataframe\"><thead><tr><th>Number</th><th>Message</th><th>Clock Time (s)</th><th>CPU Time (s)</th></tr><tr><td>i64</td><td>str</td><td>f64</td><td>f64</td></tr></thead><tbody><tr><td>51</td><td>&quot;All done&quot;</td><td>null</td><td>null</td></tr><tr><td>30</td><td>&quot;Loading html_text&quot;</td><td>79.050246</td><td>73.02274</td></tr><tr><td>44</td><td>&quot;Update Acronym&quot;</td><td>58.988813</td><td>34.236346</td></tr><tr><td>26</td><td>&quot;Updating names&quot;</td><td>20.259218</td><td>11.903545</td></tr><tr><td>43</td><td>&quot;Updating text_extra_info&quot;</td><td>8.522138</td><td>5.024656</td></tr><tr><td>&hellip;</td><td>&hellip;</td><td>&hellip;</td><td>&hellip;</td></tr><tr><td>12</td><td>&quot;Loading guides.json&quot;</td><td>0.00215</td><td>0.001831</td></tr><tr><td>13</td><td>&quot;Loading pali_reference_edition…</td><td>0.002141</td><td>0.001811</td></tr><tr><td>49</td><td>&quot;Calculating and loading size d…</td><td>0.002597</td><td>0.001443</td></tr><tr><td>16</td><td>&quot;Loading shortcuts.json&quot;</td><td>0.001598</td><td>0.001273</td></tr><tr><td>1</td><td>&quot;Retrieving Data Repository&quot;</td><td>1.451578</td><td>0.00058</td></tr></tbody></table></div>"
      ],
      "text/plain": [
       "shape: (51, 4)\n",
       "┌────────┬─────────────────────────────────┬────────────────┬──────────────┐\n",
       "│ Number ┆ Message                         ┆ Clock Time (s) ┆ CPU Time (s) │\n",
       "│ ---    ┆ ---                             ┆ ---            ┆ ---          │\n",
       "│ i64    ┆ str                             ┆ f64            ┆ f64          │\n",
       "╞════════╪═════════════════════════════════╪════════════════╪══════════════╡\n",
       "│ 51     ┆ All done                        ┆ null           ┆ null         │\n",
       "│ 30     ┆ Loading html_text               ┆ 79.050246      ┆ 73.02274     │\n",
       "│ 44     ┆ Update Acronym                  ┆ 58.988813      ┆ 34.236346    │\n",
       "│ 26     ┆ Updating names                  ┆ 20.259218      ┆ 11.903545    │\n",
       "│ 43     ┆ Updating text_extra_info        ┆ 8.522138       ┆ 5.024656     │\n",
       "│ …      ┆ …                               ┆ …              ┆ …            │\n",
       "│ 12     ┆ Loading guides.json             ┆ 0.00215        ┆ 0.001831     │\n",
       "│ 13     ┆ Loading pali_reference_edition… ┆ 0.002141       ┆ 0.001811     │\n",
       "│ 49     ┆ Calculating and loading size d… ┆ 0.002597       ┆ 0.001443     │\n",
       "│ 16     ┆ Loading shortcuts.json          ┆ 0.001598       ┆ 0.001273     │\n",
       "│ 1      ┆ Retrieving Data Repository      ┆ 1.451578       ┆ 0.00058      │\n",
       "└────────┴─────────────────────────────────┴────────────────┴──────────────┘"
      ]
     },
     "execution_count": 14,
     "metadata": {},
     "output_type": "execute_result"
    }
   ],
   "source": [
    "df.sort('CPU Time (s)', descending=True)"
   ]
  },
  {
   "cell_type": "code",
   "execution_count": null,
   "id": "11e03b1c-d131-435d-8c4b-3c81c8167dc3",
   "metadata": {},
   "outputs": [],
   "source": []
  }
 ],
 "metadata": {
  "kernelspec": {
   "display_name": "Python 3 (ipykernel)",
   "language": "python",
   "name": "python3"
  },
  "language_info": {
   "codemirror_mode": {
    "name": "ipython",
    "version": 3
   },
   "file_extension": ".py",
   "mimetype": "text/x-python",
   "name": "python",
   "nbconvert_exporter": "python",
   "pygments_lexer": "ipython3",
   "version": "3.13.2"
  }
 },
 "nbformat": 4,
 "nbformat_minor": 5
}
